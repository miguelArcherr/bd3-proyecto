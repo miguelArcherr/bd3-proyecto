{
 "cells": [
  {
   "cell_type": "markdown",
   "metadata": {},
   "source": [
    "# Retiros de Materias\n",
    "Este notebook analiza los datos de retiros de materias usando el archivo `retiros.csv`. Se generan tablas y gráficos para explorar las razones, materias, docentes, ciclos, años y diferencias por género."
   ]
  },
  {
   "cell_type": "markdown",
   "metadata": {},
   "source": [
    "**DISCLAIMER: Los datos fueron generados por inteligencia artificial**"
   ]
  },
  {
   "cell_type": "code",
   "execution_count": null,
   "metadata": {},
   "outputs": [],
   "source": [
    "import pandas as pd\n",
    "import seaborn as sns\n",
    "import matplotlib.pyplot as plt\n",
    "\n",
    "# Leer el archivo CSV\n",
    "ruta_csv = r'C:/Users/alexi/OneDrive/Desktop/bd3-proyecto/retiros.csv'\n",
    "df = pd.read_csv(ruta_csv)\n",
    "df.head()"
   ]
  },
  {
   "cell_type": "markdown",
   "metadata": {},
   "source": [
    "## Razones de Retiros"
   ]
  },
  {
   "cell_type": "code",
   "execution_count": null,
   "metadata": {},
   "outputs": [],
   "source": [
    "tabla_razones = df['razon_retiro'].value_counts().reset_index()\n",
    "tabla_razones.columns = ['razon_retiro', 'Recuento de razon_retiro']\n",
    "tabla_razones.loc['Total'] = ['Total', tabla_razones['Recuento de razon_retiro'].sum()]\n",
    "tabla_razones"
   ]
  },
  {
   "cell_type": "markdown",
   "metadata": {},
   "source": [
    "## Retiro por Materia"
   ]
  },
  {
   "cell_type": "code",
   "execution_count": null,
   "metadata": {},
   "outputs": [],
   "source": [
    "retiros_materia = df['materia'].value_counts().sort_values(ascending=False)\n",
    "plt.figure(figsize=(8,5))\n",
    "sns.barplot(x=retiros_materia.values, y=retiros_materia.index, palette='deep')\n",
    "plt.xlabel('Número de veces retirada')\n",
    "plt.ylabel('Nombre de la materia')\n",
    "plt.title('Retiro por Materia')\n",
    "plt.show()"
   ]
  },
  {
   "cell_type": "markdown",
   "metadata": {},
   "source": [
    "## Docente de materias retiradas"
   ]
  },
  {
   "cell_type": "code",
   "execution_count": null,
   "metadata": {},
   "outputs": [],
   "source": [
    "docentes = df['docente_nombres'].value_counts()\n",
    "plt.figure(figsize=(7,7))\n",
    "plt.pie(docentes, labels=docentes.index, autopct='%1.2f%%', startangle=140)\n",
    "plt.title('Docente de materias retiradas')\n",
    "plt.axis('equal')\n",
    "plt.show()"
   ]
  },
  {
   "cell_type": "markdown",
   "metadata": {},
   "source": [
    "## Total de Retiros por Ciclos y Años"
   ]
  },
  {
   "cell_type": "code",
   "execution_count": null,
   "metadata": {},
   "outputs": [],
   "source": [
    "retiros_ciclo_ano = df.groupby(['anio', 'ciclo']).size().reset_index(name='Total de Retiros')\n",
    "plt.figure(figsize=(8,5))\n",
    "sns.barplot(x=['{}-{}'.format(a,c) for a,c in zip(retiros_ciclo_ano['anio'], retiros_ciclo_ano['ciclo'])],\n",
    "            y=retiros_ciclo_ano['Total de Retiros'], palette='pastel')\n",
    "plt.xlabel('Años y Ciclos')\n",
    "plt.ylabel('Total de Retiros')\n",
    "plt.title('Total de Retiros por Ciclos y Años')\n",
    "plt.show()"
   ]
  },
  {
   "cell_type": "markdown",
   "metadata": {},
   "source": [
    "## Retiros de materias en 2022 y 2023"
   ]
  },
  {
   "cell_type": "code",
   "execution_count": null,
   "metadata": {},
   "outputs": [],
   "source": [
    "retiros_22_23 = df[df['anio'].isin([2022,2023])]['materia'].value_counts()\n",
    "plt.figure(figsize=(8,8))\n",
    "plt.pie(retiros_22_23, labels=retiros_22_23.index, autopct='%1.1f%%', startangle=140)\n",
    "plt.title('Retiros de materias en 2022 y 2023')\n",
    "plt.axis('equal')\n",
    "plt.show()"
   ]
  },
  {
   "cell_type": "markdown",
   "metadata": {},
   "source": [
    "## Retiros de materia por genero femenino "
   ]
  },
  {
   "cell_type": "code",
   "execution_count": null,
   "metadata": {},
   "outputs": [],
   "source": [
    "retiros_fem = df[df['genero']=='Femenino']['materia'].value_counts().reset_index()\n",
    "retiros_fem.columns = ['Materia', 'Retiros']\n",
    "retiros_fem"
   ]
  },
  {
   "cell_type": "markdown",
   "metadata": {},
   "source": [
    "## Retiros de materia por género masculino "
   ]
  },
  {
   "cell_type": "code",
   "execution_count": null,
   "metadata": {},
   "outputs": [],
   "source": [
    "retiros_masc = df[df['genero']=='Masculino']['materia'].value_counts().reset_index()\n",
    "retiros_masc.columns = ['Materia', 'Retiros']\n",
    "retiros_masc"
   ]
  }
 ],
 "metadata": {
  "kernelspec": {
   "display_name": "Python 3",
   "language": "python",
   "name": "python3"
  },
  "language_info": {
   "codemirror_mode": {
    "name": "ipython",
    "version": 3
   },
   "file_extension": ".py",
   "mimetype": "text/x-python",
   "name": "python",
   "nbconvert_exporter": "python",
   "pygments_lexer": "ipython3",
   "version": "3.11.9"
  }
 },
 "nbformat": 4,
 "nbformat_minor": 2
}
