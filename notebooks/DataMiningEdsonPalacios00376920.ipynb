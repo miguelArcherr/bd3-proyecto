{
  "nbformat": 4,
  "nbformat_minor": 0,
  "metadata": {
    "colab": {
      "provenance": [],
      "toc_visible": true
    },
    "kernelspec": {
      "name": "python3",
      "display_name": "Python 3"
    },
    "language_info": {
      "name": "python"
    }
  },
  "cells": [
    {
      "cell_type": "code",
      "source": [
        "import pandas as pd\n",
        "from datetime import datetime\n",
        "\n",
        "\n",
        "df = pd.read_csv(\"../retiros.csv\", parse_dates=[\"fecha\", \"estudiante_fecha_ingreso\", \"fecha_inicio\", \"fecha_fin\"])\n",
        "\n",
        "# 1. Edad académica promedio (en años) al momento del retiro\n",
        "df[\"edad_academica\"] = (df[\"fecha\"] - df[\"estudiante_fecha_ingreso\"]).dt.days / 365\n",
        "kpi1 = df[\"edad_academica\"].mean()\n",
        "\n",
        "# 2. Mes con mayor cantidad de retiros\n",
        "kpi2 = df[\"mes\"].value_counts().idxmax()\n",
        "\n",
        "# 3. Porcentaje de retiros definitivos vs temporales\n",
        "kpi3 = df[\"tipo_retiro\"].value_counts(normalize=True) * 100\n",
        "\n",
        "# 5. Distribución de retiros por semestre\n",
        "kpi5 = df[\"semestre\"].value_counts()\n",
        "\n",
        "# 6. Carrera con mayor porcentaje de retiros femeninos\n",
        "fem_por_carrera = df[df[\"genero\"] == \"Femenino\"][\"carrera\"].value_counts(normalize=True) * 100\n",
        "kpi6 = fem_por_carrera.idxmax()\n",
        "\n",
        "# 7. Relación tipo de retiro vs. motivo\n",
        "kpi7 = pd.crosstab(df[\"tipo_retiro\"], df[\"razon_retiro\"])\n"
      ],
      "metadata": {
        "id": "rqZaa9IO_t4h"
      },
      "execution_count": null,
      "outputs": []
    },
    {
      "cell_type": "code",
      "source": [
        "print(f\"1. Edad académica promedio al retiro: {kpi1:.2f} años\")\n",
        "print(f\"2. Mes con más retiros: {kpi2}\")\n",
        "print(\"3. % Retiros por tipo:\")\n",
        "print(kpi3)\n",
        "print(\"5. Retiros por semestre:\")\n",
        "print(kpi5)\n",
        "print(f\"6. Carrera con mayor % de retiros femeninos: {kpi6}\")\n",
        "print(\"7. Matriz tipo de retiro vs. motivo:\")\n",
        "print(kpi7)\n"
      ],
      "metadata": {
        "colab": {
          "base_uri": "https://localhost:8080/"
        },
        "id": "_Gocvt4kA8n1",
        "outputId": "65f3c0ac-89da-4f8e-9a09-cd2e963afa06"
      },
      "execution_count": null,
      "outputs": [
        {
          "output_type": "stream",
          "name": "stdout",
          "text": [
            "1. Edad académica promedio al retiro: 2.42 años\n",
            "2. Mes con más retiros: 4\n",
            "3. % Retiros por tipo:\n",
            "tipo_retiro\n",
            "Temporal      50.45045\n",
            "Definitivo    49.54955\n",
            "Name: proportion, dtype: float64\n",
            "4. Promedio de UVs perdidas: 4.12\n",
            "5. Retiros por semestre:\n",
            "semestre\n",
            "1    712\n",
            "2    620\n",
            "Name: count, dtype: int64\n",
            "6. Carrera con mayor % de retiros femeninos: Matemática\n",
            "7. Matriz tipo de retiro vs. motivo:\n",
            "razon_retiro  Cambio de carrera  Problemas económicos  Problemas personales  \\\n",
            "tipo_retiro                                                                   \n",
            "Definitivo                  197                     0                   325   \n",
            "Temporal                    133                   340                     0   \n",
            "\n",
            "razon_retiro  Salud  \n",
            "tipo_retiro          \n",
            "Definitivo      138  \n",
            "Temporal        199  \n"
          ]
        }
      ]
    },
    {
      "cell_type": "code",
      "source": [
        "# kpi 4\n",
        "\n",
        "# Top 5 materias más retiradas\n",
        "top_5_mas_retiradas = df[\"materia_nombre\"].value_counts().head(5)\n",
        "\n",
        "# Top 6 materias menos retiradas\n",
        "top_5_menos_retiradas = df[\"materia_nombre\"].value_counts().sort_values().head(6)\n",
        "\n",
        "print(\"📈 Top 5 Materias Más Retiradas:\")\n",
        "print(top_5_mas_retiradas)\n",
        "\n",
        "print(\"\\n📉 Top 6 Materias Menos Retiradas:\")\n",
        "print(top_5_menos_retiradas)\n"
      ],
      "metadata": {
        "colab": {
          "base_uri": "https://localhost:8080/"
        },
        "id": "f5lMuk2ebMOI",
        "outputId": "57c0dd35-ae6c-4b3f-e149-130ecaa01516"
      },
      "execution_count": null,
      "outputs": [
        {
          "output_type": "stream",
          "name": "stdout",
          "text": [
            "📈 Top 5 Materias Más Retiradas:\n",
            "materia_nombre\n",
            "Genética          436\n",
            "Sociología        217\n",
            "Álgebra Lineal    123\n",
            "Cálculo I         120\n",
            "Cálculo II        114\n",
            "Name: count, dtype: int64\n",
            "\n",
            "📉 Top 6 Materias Menos Retiradas:\n",
            "materia_nombre\n",
            "Física General          29\n",
            "Electromagnetismo       30\n",
            "Física Moderna          31\n",
            "Programación Web        75\n",
            "Bases de Datos          77\n",
            "Estructuras de Datos    80\n",
            "Name: count, dtype: int64\n"
          ]
        }
      ]
    }
  ]
}